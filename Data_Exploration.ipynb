{
 "cells": [
  {
   "cell_type": "markdown",
   "metadata": {},
   "source": [
    "<h1><center>Prediction of YouTube Video Popularity</center></h1>\n",
    "<center></center>\n",
    "<ol> \n",
    "    <center>Orfeas Bourchas PhD StudentSchool of Naval Architecture & Marine Engineering NTUA</center>\n",
    "    <center>Nikos Silionis PhD StudentSchool of Naval Architecture & Marine Engineering NTUA</center>\n",
    "    <center>Dimitris Tsoumpelis PhD StudentSchool of Naval Architecture & Marine Engineering NTUA</center>\n",
    "<ol>\n"
   ]
  },
  {
   "cell_type": "markdown",
   "metadata": {},
   "source": [
    "<h2><center>  Import Libraies</center></h2>"
   ]
  },
  {
   "cell_type": "code",
   "execution_count": null,
   "metadata": {},
   "outputs": [],
   "source": [
    "import os\n",
    "import pandas as pd\n",
    "import numpy as np\n",
    "import matplotlib.pyplot as plt \n",
    "import seaborn as sns\n",
    "from datetime import timedelta\n",
    "os.getcwd()\n",
    "os.chdir() #change to your working dir\n"
   ]
  },
  {
   "cell_type": "markdown",
   "metadata": {},
   "source": [
    "<h2><center>  Defining Functions that will be used later</center></h2>"
   ]
  },
  {
   "cell_type": "code",
   "execution_count": null,
   "metadata": {},
   "outputs": [],
   "source": [
    "def get_unique_values(df,column,new_column_name):\n",
    "    #Creates new column with the number of unique appearances\n",
    "    df[new_column_name] = pd.Series(dtype='int')\n",
    "    \n",
    "    for name in df[column].unique():\n",
    "        df.loc[df[column] == name,new_column_name ] = df[column].value_counts()[df[column].value_counts().index.get_loc(name)]\n",
    "    \n",
    "    return df\n"
   ]
  },
  {
   "cell_type": "code",
   "execution_count": null,
   "metadata": {},
   "outputs": [],
   "source": [
    "def dif_function(df,sorting_list,new_column_name, target_column):\n",
    "\n",
    "    \n",
    "    df.sort_values(by = sorting_list,inplace=True)\n",
    "    df.reset_index(drop=True, inplace=True)\n",
    "\n",
    "    df[new_column_name] = pd.Series(dtype='int')\n",
    "    df[new_column_name] = df[new_column_name].fillna(0)\n",
    "    index = 0\n",
    "    for name in df[sorting_list[0]].unique():\n",
    "        df.loc[index,new_column_name] = 0\n",
    "        index+=1\n",
    "        for rep in range(len(df.loc[df[sorting_list[0]] == name])-1):\n",
    "            df.loc[index, new_column_name] = df.loc[index,target_column] - df.loc[index-1,target_column]\n",
    "            index+=1\n",
    "    return df"
   ]
  },
  {
   "cell_type": "code",
   "execution_count": null,
   "metadata": {},
   "outputs": [],
   "source": [
    "def time_dif_function(df,sorting_list,new_column_name, target_column):\n",
    "\n",
    "    \n",
    "    df.sort_values(by = sorting_list,inplace=True)\n",
    "    df.reset_index(drop=True, inplace=True)\n",
    "\n",
    "    df[new_column_name] = pd.Series(dtype='int')\n",
    "    df[new_column_name] = df[new_column_name].fillna(0)\n",
    "    index = 0\n",
    "    for name in df[sorting_list[0]].unique():\n",
    "        df.loc[index,new_column_name] = 0\n",
    "        index+=1\n",
    "        for rep in range(len(df.loc[df[sorting_list[0]] == name])-1):\n",
    "            df.loc[index, new_column_name] = df.loc[index,target_column] - df.loc[index-1,target_column]\n",
    "            index+=1\n",
    "    return df"
   ]
  },
  {
   "cell_type": "markdown",
   "metadata": {},
   "source": [
    "<h1><center>  Primary Data Manipulation </center></h1>"
   ]
  },
  {
   "cell_type": "code",
   "execution_count": null,
   "metadata": {},
   "outputs": [],
   "source": [
    "df = pd.read_csv('CAvideos.csv')\n",
    "df['days_till_trending'] = pd.to_datetime(df['trending_date'], format = \"%y.%d.%m\") - pd.to_datetime(df['publish_time'][:].str[:10], format = \"%Y-%m-%d\")\n",
    "df['publish_hour'] = pd.to_datetime(df['publish_time'][:].str[:10], format = \"%Y-%m-%d\")\n",
    "df['number_of_tags'] = df['tags'][:].str.count('\\|\"').astype(int)\n",
    "for col in df.columns:\n",
    "    if df[col].dtype == 'O':\n",
    "        df[col] = df[col].astype(\"string\")"
   ]
  },
  {
   "cell_type": "code",
   "execution_count": null,
   "metadata": {},
   "outputs": [],
   "source": [
    "df['number_of_tags'] = df['tags'].str.count(\"\\|\")"
   ]
  },
  {
   "cell_type": "code",
   "execution_count": null,
   "metadata": {},
   "outputs": [],
   "source": [
    "df = get_unique_values(df,'title','title_number_of_trending_times')\n",
    "df = get_unique_values(df,'video_id','video_id_number_of_trending_times')"
   ]
  },
  {
   "cell_type": "markdown",
   "metadata": {},
   "source": [
    "<h1><center>  Create Title Difference</center></h1>"
   ]
  },
  {
   "cell_type": "code",
   "execution_count": null,
   "metadata": {},
   "outputs": [],
   "source": [
    "lst = ['title','title_number_of_trending_times','trending_date', 'likes']\n",
    "new_name = 'title_likedf'\n",
    "target_column = 'likes'\n",
    "df = dif_function(df, lst, new_name, target_column)\n",
    "\n",
    "lst = ['title','title_number_of_trending_times','trending_date','likes']\n",
    "new_name = 'title_dislikedf'\n",
    "target_column = 'dislikes'\n",
    "df = dif_function(df, lst, new_name, target_column)\n",
    "\n",
    "lst = ['title','title_number_of_trending_times','trending_date']\n",
    "new_name = 'title_tagsdif'\n",
    "target_column = 'number_of_tags'\n",
    "df = dif_function(df, lst, new_name, target_column)\n",
    "\n",
    "lst = ['title','publish_hour','trending_date']\n",
    "new_name = 'title_time_dif'\n",
    "target_column = 'publish_hour'\n",
    "df = dif_function(df, lst, new_name, target_column)\n",
    "\n",
    "lst = ['title','views','trending_date']\n",
    "new_name = 'title_views_dif'\n",
    "target_column = 'views'\n",
    "df = dif_function(df, lst, new_name, target_column)\n",
    "\n",
    "lst = ['title','comment_count','trending_date']\n",
    "new_name = 'title_comment_count_dif'\n",
    "target_column = 'comment_count'\n",
    "df = dif_function(df, lst, new_name, target_column)"
   ]
  },
  {
   "cell_type": "markdown",
   "metadata": {},
   "source": [
    "<h1><center>  Create Video Id Difference</center></h1>"
   ]
  },
  {
   "cell_type": "code",
   "execution_count": null,
   "metadata": {},
   "outputs": [],
   "source": [
    "lst = ['video_id','video_id_number_of_trending_times','trending_date']\n",
    "new_name = 'video_id_likedf'\n",
    "target_column = 'likes'\n",
    "df = dif_function(df, lst, new_name, target_column)\n",
    "\n",
    "lst = ['video_id','video_id_number_of_trending_times','trending_date']\n",
    "new_name = 'video_id_dislikedf'\n",
    "target_column = 'dislikes'\n",
    "df = dif_function(df, lst, new_name, target_column)\n",
    "\n",
    "lst = ['video_id','video_id_number_of_trending_times','trending_date']\n",
    "new_name = 'video_id_tagsdif'\n",
    "target_column = 'number_of_tags'\n",
    "df = dif_function(df, lst, new_name, target_column)\n",
    "\n",
    "lst = ['video_id','publish_hour','trending_date']\n",
    "new_name = 'video_id_time_dif'\n",
    "target_column = 'publish_hour'\n",
    "df = dif_function(df, lst, new_name, target_column)\n",
    "\n",
    "\n",
    "lst = ['video_id','views','trending_date']\n",
    "new_name = 'video_id_views_dif'\n",
    "target_column = 'views'\n",
    "df = dif_function(df, lst, new_name, target_column)\n",
    "\n",
    "lst = ['video_id','comment_count','trending_date']\n",
    "new_name = 'video_id_comment_count_dif'\n",
    "target_column = 'comment_count'\n",
    "df = dif_function(df, lst, new_name, target_column)"
   ]
  },
  {
   "cell_type": "code",
   "execution_count": null,
   "metadata": {},
   "outputs": [],
   "source": [
    "for i in range(df.shape[0]):\n",
    "    if type(df.loc[i,'video_id_time_dif'])==pd._libs.tslibs.timedeltas.Timedelta:\n",
    "        df.loc[i,'video_id_time_dif'] =  df.loc[i,'video_id_time_dif'].total_seconds()\n",
    "\n",
    "for i in range(df.shape[0]):\n",
    "    if type(df.loc[i,'title_time_dif'])==pd._libs.tslibs.timedeltas.Timedelta:\n",
    "        df.loc[i,'title_time_dif'] =  df.loc[i,'title_time_dif'].total_seconds()\n",
    "for ii in range(30):\n",
    "    df.loc[ii,'days_till_trending'] = df.loc[ii,'days_till_trending'].total_seconds()/86400\n",
    "\n",
    "for col in df.columns:\n",
    "    if df[col].dtype == 'O':\n",
    "        df[col] = df[col].astype(\"string\")"
   ]
  },
  {
   "cell_type": "code",
   "execution_count": null,
   "metadata": {},
   "outputs": [],
   "source": [
    "fig, ax = plt.subplots(2,1,figsize=(15, 10),sharex = True)\n",
    "fig.suptitle('Trending Times', fontsize=16)\n",
    "ax[0].plot(df['title_number_of_trending_times'].value_counts())\n",
    "ax[0].set_xlabel('Trending Times')\n",
    "ax[0].set_ylabel('Song Count')\n",
    "ax[0].grid(True)\n",
    "ax[0].set_title('title_number_of_trending_times')\n",
    "\n",
    "ax[1].plot(df['video_id_number_of_trending_times'].value_counts())\n",
    "ax[1].set_xlabel('Trending Times')\n",
    "ax[1].set_ylabel('Song Count')\n",
    "ax[1].grid(True)\n",
    "ax[1].set_title('video_id_number_of_trending_times')"
   ]
  },
  {
   "cell_type": "code",
   "execution_count": null,
   "metadata": {},
   "outputs": [],
   "source": [
    "df['comments_to_views'] = df['comment_count']/df['views']\n",
    "df['comments_to_views'].describe()"
   ]
  },
  {
   "cell_type": "code",
   "execution_count": null,
   "metadata": {},
   "outputs": [],
   "source": [
    "df['likes_to_dislikes'] = (df['likes']+1)/(df['dislikes']+1)\n",
    "df['likes_to_dislikes'].describe()"
   ]
  },
  {
   "cell_type": "code",
   "execution_count": null,
   "metadata": {},
   "outputs": [],
   "source": [
    "labeling_index = df['likes_to_dislikes']*df['comments_to_views']"
   ]
  },
  {
   "cell_type": "code",
   "execution_count": null,
   "metadata": {},
   "outputs": [],
   "source": [
    "## Classifier Function\n",
    "\n",
    "zero_ind = df[(df['views'] < 1e5)].index\n",
    "zero_ind.shape\n",
    "one_ind = df[(df['views'] > 1e5) & (labeling_index < 0.05)].index\n",
    "one_ind.shape\n",
    "two_ind = df[(df['views'] > 1e5) & (labeling_index > 0.05) & (labeling_index < 0.25)].index\n",
    "two_ind.shape\n",
    "three_ind = df[(df['views'] > 1e5) & (labeling_index > 0.25)].index\n",
    "three_ind.shape"
   ]
  },
  {
   "cell_type": "code",
   "execution_count": null,
   "metadata": {},
   "outputs": [],
   "source": [
    "df['label'] = pd.DataFrame(np.zeros((df.shape[0], 1)))\n",
    "df.loc[zero_ind,'label'] = 0\n",
    "df.loc[one_ind,'label'] = 1\n",
    "df.loc[two_ind,'label'] = 2\n",
    "df.loc[three_ind,'label'] = 3"
   ]
  },
  {
   "cell_type": "code",
   "execution_count": null,
   "metadata": {},
   "outputs": [],
   "source": [
    "df.rename({\"label\": \"class\"},inplace=True, axis =1)\n",
    "df.columns\n",
    "df = df.drop_duplicates('title',keep ='last')\n",
    "df = df.drop_duplicates('video_id',keep ='last')\n",
    "df.reset_index(drop=True, inplace= True)"
   ]
  },
  {
   "cell_type": "code",
   "execution_count": null,
   "metadata": {},
   "outputs": [],
   "source": [
    "df_new = df[['views','likes','dislikes','comment_count','days_till_trending','number_of_tags','title_number_of_trending_times',\n",
    "       'video_id_number_of_trending_times', 'title_likedf',  'title_dislikedf', 'video_id_likedf', 'video_id_dislikedf',\n",
    "       'title_tagsdif', 'video_id_tagsdif', 'title_time_dif',\n",
    "       'title_views_dif', 'video_id_time_dif', 'video_id_views_dif',\n",
    "       'title_comment_count_dif', 'video_id_comment_count_dif',\n",
    "       'comments_to_views', 'likes_to_dislikes', 'class']]\n",
    "df_new.to_csv('Model_Dataset.csv', index=False)"
   ]
  },
  {
   "cell_type": "code",
   "execution_count": null,
   "metadata": {},
   "outputs": [],
   "source": [
    "fig, ax = plt.subplots(7, 2, figsize = (20, 10))\n",
    "fig.suptitle('Video_id and Title Dif plots')\n",
    "colors = {0:'red', 1:'green', 2:'blue', 3:'yellow'}\n",
    "ax[0,0].scatter(x = df['video_id_number_of_trending_times'], y = df['video_id_likedf'],  c= df['class'].map(colors))\n",
    "ax[0,0].set_title('Like dif vs video_id trending times')\n",
    "\n",
    "ax[1,0].scatter(x = df['video_id_number_of_trending_times'], y = df['video_id_dislikedf'], c= df['class'].map(colors))\n",
    "ax[1,0].set_title('Dislike dif vs video_id trending times')\n",
    "\n",
    "ax[2,0].scatter(x = df['video_id_number_of_trending_times'], y = df['video_id_tagsdif'], c= df['class'].map(colors))\n",
    "ax[2,0].set_title('Tags dif vs video_id trending times')\n",
    "\n",
    "ax[3,0].scatter(x = df['video_id_number_of_trending_times'], y = df['video_id_time_dif'], c= df['class'].map(colors))\n",
    "ax[3,0].set_title('Time dif vs video_id trending times')\n",
    "\n",
    "ax[4,0].scatter(x = df['video_id_number_of_trending_times'], y = df['video_id_views_dif'], c= df['class'].map(colors))\n",
    "ax[4,0].set_title('Views dif vs video_id trending times')\n",
    "\n",
    "ax[5,0].scatter(x = df['video_id_number_of_trending_times'], y = df['video_id_comment_count_dif'], c= df['class'].map(colors))\n",
    "ax[5,0].set_title('Comment dif vs video_id trending times')\n",
    "\n",
    "ax[6,0].scatter(x = df['video_id_number_of_trending_times'], y = df['days_till_trending'], c= df['class'].map(colors))\n",
    "ax[6,0].set_title('days_till_trending dif vs video_id trending times')\n",
    "\n",
    "ax[0,1].scatter(x = df['title_number_of_trending_times'], y = df['title_dislikedf'], c= df['class'].map(colors))\n",
    "ax[0,1].set_title('Like dif vs title trending times')\n",
    "\n",
    "ax[1,1].scatter(x = df['title_number_of_trending_times'], y = df['title_likedf'], c= df['class'].map(colors))\n",
    "ax[1,1].set_title('Dislike dif vs title trending times')\n",
    "\n",
    "ax[2,1].scatter(x = df['title_number_of_trending_times'], y = df['title_tagsdif'], c= df['class'].map(colors))\n",
    "ax[2,1].set_title('Tags dif vs title trending times')\n",
    "\n",
    "ax[3,1].scatter(x = df['title_number_of_trending_times'], y = df['title_time_dif'], c= df['class'].map(colors))\n",
    "ax[3,1].set_title('Time dif vs title trending times')\n",
    "\n",
    "ax[4,1].scatter(x = df['title_number_of_trending_times'], y = df['title_views_dif'], c= df['class'].map(colors))\n",
    "ax[4,1].set_title('Views dif vs title trending times')\n",
    "\n",
    "ax[5,1].scatter(x = df['title_number_of_trending_times'], y = df['title_comment_count_dif'], c= df['class'].map(colors))\n",
    "ax[5,1].set_title('Comment dif vs title trending times')\n",
    "\n",
    "ax[6,1].scatter(x = df['title_number_of_trending_times'], y = df['days_till_trending'], c= df['class'].map(colors))\n",
    "ax[6,1].set_title('days_till_trending dif vs title trending times')"
   ]
  },
  {
   "cell_type": "code",
   "execution_count": null,
   "metadata": {},
   "outputs": [],
   "source": [
    "colors = {0:'red', 1:'green', 2:'blue', 3:'yellow'}\n",
    "\n",
    "fig = plt.figure()\n",
    "ax = fig.add_subplot(1,1,1)\n",
    "scatter = ax.scatter(x=df['title_number_of_trending_times'],\n",
    "\n",
    "                      y=df['video_id_number_of_trending_times'],\n",
    "\n",
    "                      c=df['class'],\n",
    "                      label=colors)\n",
    "ax.set_title('Title trending times vs VideoId trending times')\n",
    "ax.set_xlabel('Title  trendind times')\n",
    "ax.set_ylabel('VideoId  trendind times')\n",
    "fig.colorbar(scatter, ax=ax)\n",
    "plt.savefig('Trending_times_scatter_plot.jpg')"
   ]
  },
  {
   "cell_type": "code",
   "execution_count": null,
   "metadata": {},
   "outputs": [],
   "source": []
  }
 ],
 "metadata": {
  "interpreter": {
   "hash": "8caf6754589b00d3e36247976a3f3271c14aac56bb7217d3b733fe3115773b63"
  },
  "kernelspec": {
   "display_name": "Python 3.8.8 ('Machine_Learning')",
   "language": "python",
   "name": "python3"
  },
  "language_info": {
   "codemirror_mode": {
    "name": "ipython",
    "version": 3
   },
   "file_extension": ".py",
   "mimetype": "text/x-python",
   "name": "python",
   "nbconvert_exporter": "python",
   "pygments_lexer": "ipython3",
   "version": "3.8.8"
  },
  "orig_nbformat": 4
 },
 "nbformat": 4,
 "nbformat_minor": 2
}
